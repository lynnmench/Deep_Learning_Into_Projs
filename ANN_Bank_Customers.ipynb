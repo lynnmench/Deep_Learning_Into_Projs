{
 "cells": [
  {
   "cell_type": "markdown",
   "id": "b2ad8178",
   "metadata": {},
   "source": [
    "\n",
    "Author: Lynn Menchaca\n",
    "\n",
    "Date: 04Mar2023\n",
    "\n",
    "Project: ANN Practical Implementation\n",
    "\n",
    "This is a binary classification problem. The purpose of this project is to use the data set to see if the person is going to quit the bank or not.\n"
   ]
  },
  {
   "cell_type": "markdown",
   "id": "7cf50986",
   "metadata": {},
   "source": [
    "First step is install tensor flow:\n",
    "\n",
    "!pip install tensorflow"
   ]
  },
  {
   "cell_type": "code",
   "execution_count": 66,
   "id": "8f5f0cca",
   "metadata": {},
   "outputs": [],
   "source": [
    "import tensorflow as tf\n",
    "from tensorflow.keras.models import Sequential\n",
    "from tensorflow.keras.layers import Dense\n",
    "from tensorflow.keras.layers import LeakyReLU, PReLU,ELU,ReLU\n",
    "from tensorflow.keras.layers import Dropout\n",
    "\n",
    "import numpy as np\n",
    "import matplotlib.pyplot as plt\n",
    "import pandas as pd\n",
    "\n",
    "from sklearn.preprocessing import StandardScaler\n",
    "from sklearn.model_selection import train_test_split\n",
    "from sklearn.metrics import confusion_matrix\n",
    "from sklearn.metrics import accuracy_score"
   ]
  },
  {
   "cell_type": "code",
   "execution_count": 2,
   "id": "922398e1",
   "metadata": {},
   "outputs": [
    {
     "name": "stdout",
     "output_type": "stream",
     "text": [
      "2.11.0\n"
     ]
    }
   ],
   "source": [
    "print(tf.__version__)"
   ]
  },
  {
   "cell_type": "code",
   "execution_count": 4,
   "id": "58e3b1c5",
   "metadata": {},
   "outputs": [],
   "source": [
    "#reading in the ANN data set\n",
    "\n",
    "data_file_path = '/Users/lynnpowell/Documents/DS_Projects/Data_Files/Deep_Learning_Intro_Data/'\n",
    "dataset = pd.read_csv(data_file_path+'Churn_Modelling.csv')"
   ]
  },
  {
   "cell_type": "code",
   "execution_count": 5,
   "id": "5643768d",
   "metadata": {},
   "outputs": [
    {
     "data": {
      "text/html": [
       "<div>\n",
       "<style scoped>\n",
       "    .dataframe tbody tr th:only-of-type {\n",
       "        vertical-align: middle;\n",
       "    }\n",
       "\n",
       "    .dataframe tbody tr th {\n",
       "        vertical-align: top;\n",
       "    }\n",
       "\n",
       "    .dataframe thead th {\n",
       "        text-align: right;\n",
       "    }\n",
       "</style>\n",
       "<table border=\"1\" class=\"dataframe\">\n",
       "  <thead>\n",
       "    <tr style=\"text-align: right;\">\n",
       "      <th></th>\n",
       "      <th>RowNumber</th>\n",
       "      <th>CustomerId</th>\n",
       "      <th>Surname</th>\n",
       "      <th>CreditScore</th>\n",
       "      <th>Geography</th>\n",
       "      <th>Gender</th>\n",
       "      <th>Age</th>\n",
       "      <th>Tenure</th>\n",
       "      <th>Balance</th>\n",
       "      <th>NumOfProducts</th>\n",
       "      <th>HasCrCard</th>\n",
       "      <th>IsActiveMember</th>\n",
       "      <th>EstimatedSalary</th>\n",
       "      <th>Exited</th>\n",
       "    </tr>\n",
       "  </thead>\n",
       "  <tbody>\n",
       "    <tr>\n",
       "      <th>0</th>\n",
       "      <td>1</td>\n",
       "      <td>15634602</td>\n",
       "      <td>Hargrave</td>\n",
       "      <td>619</td>\n",
       "      <td>France</td>\n",
       "      <td>Female</td>\n",
       "      <td>42</td>\n",
       "      <td>2</td>\n",
       "      <td>0.00</td>\n",
       "      <td>1</td>\n",
       "      <td>1</td>\n",
       "      <td>1</td>\n",
       "      <td>101348.88</td>\n",
       "      <td>1</td>\n",
       "    </tr>\n",
       "    <tr>\n",
       "      <th>1</th>\n",
       "      <td>2</td>\n",
       "      <td>15647311</td>\n",
       "      <td>Hill</td>\n",
       "      <td>608</td>\n",
       "      <td>Spain</td>\n",
       "      <td>Female</td>\n",
       "      <td>41</td>\n",
       "      <td>1</td>\n",
       "      <td>83807.86</td>\n",
       "      <td>1</td>\n",
       "      <td>0</td>\n",
       "      <td>1</td>\n",
       "      <td>112542.58</td>\n",
       "      <td>0</td>\n",
       "    </tr>\n",
       "    <tr>\n",
       "      <th>2</th>\n",
       "      <td>3</td>\n",
       "      <td>15619304</td>\n",
       "      <td>Onio</td>\n",
       "      <td>502</td>\n",
       "      <td>France</td>\n",
       "      <td>Female</td>\n",
       "      <td>42</td>\n",
       "      <td>8</td>\n",
       "      <td>159660.80</td>\n",
       "      <td>3</td>\n",
       "      <td>1</td>\n",
       "      <td>0</td>\n",
       "      <td>113931.57</td>\n",
       "      <td>1</td>\n",
       "    </tr>\n",
       "    <tr>\n",
       "      <th>3</th>\n",
       "      <td>4</td>\n",
       "      <td>15701354</td>\n",
       "      <td>Boni</td>\n",
       "      <td>699</td>\n",
       "      <td>France</td>\n",
       "      <td>Female</td>\n",
       "      <td>39</td>\n",
       "      <td>1</td>\n",
       "      <td>0.00</td>\n",
       "      <td>2</td>\n",
       "      <td>0</td>\n",
       "      <td>0</td>\n",
       "      <td>93826.63</td>\n",
       "      <td>0</td>\n",
       "    </tr>\n",
       "    <tr>\n",
       "      <th>4</th>\n",
       "      <td>5</td>\n",
       "      <td>15737888</td>\n",
       "      <td>Mitchell</td>\n",
       "      <td>850</td>\n",
       "      <td>Spain</td>\n",
       "      <td>Female</td>\n",
       "      <td>43</td>\n",
       "      <td>2</td>\n",
       "      <td>125510.82</td>\n",
       "      <td>1</td>\n",
       "      <td>1</td>\n",
       "      <td>1</td>\n",
       "      <td>79084.10</td>\n",
       "      <td>0</td>\n",
       "    </tr>\n",
       "  </tbody>\n",
       "</table>\n",
       "</div>"
      ],
      "text/plain": [
       "   RowNumber  CustomerId   Surname  CreditScore Geography  Gender  Age  \\\n",
       "0          1    15634602  Hargrave          619    France  Female   42   \n",
       "1          2    15647311      Hill          608     Spain  Female   41   \n",
       "2          3    15619304      Onio          502    France  Female   42   \n",
       "3          4    15701354      Boni          699    France  Female   39   \n",
       "4          5    15737888  Mitchell          850     Spain  Female   43   \n",
       "\n",
       "   Tenure    Balance  NumOfProducts  HasCrCard  IsActiveMember  \\\n",
       "0       2       0.00              1          1               1   \n",
       "1       1   83807.86              1          0               1   \n",
       "2       8  159660.80              3          1               0   \n",
       "3       1       0.00              2          0               0   \n",
       "4       2  125510.82              1          1               1   \n",
       "\n",
       "   EstimatedSalary  Exited  \n",
       "0        101348.88       1  \n",
       "1        112542.58       0  \n",
       "2        113931.57       1  \n",
       "3         93826.63       0  \n",
       "4         79084.10       0  "
      ]
     },
     "execution_count": 5,
     "metadata": {},
     "output_type": "execute_result"
    }
   ],
   "source": [
    "dataset.head()"
   ]
  },
  {
   "cell_type": "code",
   "execution_count": 6,
   "id": "eea1a972",
   "metadata": {},
   "outputs": [],
   "source": [
    "# Independent Features\n",
    "# Ignoring: RowNumber, CustomerID, Surname\n",
    "X = dataset.iloc[:,3:13]\n",
    "# Dependent Feature (Output Feature)\n",
    "y = dataset.iloc[:,13]"
   ]
  },
  {
   "cell_type": "code",
   "execution_count": 7,
   "id": "c7aa083e",
   "metadata": {},
   "outputs": [
    {
     "data": {
      "text/html": [
       "<div>\n",
       "<style scoped>\n",
       "    .dataframe tbody tr th:only-of-type {\n",
       "        vertical-align: middle;\n",
       "    }\n",
       "\n",
       "    .dataframe tbody tr th {\n",
       "        vertical-align: top;\n",
       "    }\n",
       "\n",
       "    .dataframe thead th {\n",
       "        text-align: right;\n",
       "    }\n",
       "</style>\n",
       "<table border=\"1\" class=\"dataframe\">\n",
       "  <thead>\n",
       "    <tr style=\"text-align: right;\">\n",
       "      <th></th>\n",
       "      <th>CreditScore</th>\n",
       "      <th>Geography</th>\n",
       "      <th>Gender</th>\n",
       "      <th>Age</th>\n",
       "      <th>Tenure</th>\n",
       "      <th>Balance</th>\n",
       "      <th>NumOfProducts</th>\n",
       "      <th>HasCrCard</th>\n",
       "      <th>IsActiveMember</th>\n",
       "      <th>EstimatedSalary</th>\n",
       "    </tr>\n",
       "  </thead>\n",
       "  <tbody>\n",
       "    <tr>\n",
       "      <th>0</th>\n",
       "      <td>619</td>\n",
       "      <td>France</td>\n",
       "      <td>Female</td>\n",
       "      <td>42</td>\n",
       "      <td>2</td>\n",
       "      <td>0.00</td>\n",
       "      <td>1</td>\n",
       "      <td>1</td>\n",
       "      <td>1</td>\n",
       "      <td>101348.88</td>\n",
       "    </tr>\n",
       "    <tr>\n",
       "      <th>1</th>\n",
       "      <td>608</td>\n",
       "      <td>Spain</td>\n",
       "      <td>Female</td>\n",
       "      <td>41</td>\n",
       "      <td>1</td>\n",
       "      <td>83807.86</td>\n",
       "      <td>1</td>\n",
       "      <td>0</td>\n",
       "      <td>1</td>\n",
       "      <td>112542.58</td>\n",
       "    </tr>\n",
       "    <tr>\n",
       "      <th>2</th>\n",
       "      <td>502</td>\n",
       "      <td>France</td>\n",
       "      <td>Female</td>\n",
       "      <td>42</td>\n",
       "      <td>8</td>\n",
       "      <td>159660.80</td>\n",
       "      <td>3</td>\n",
       "      <td>1</td>\n",
       "      <td>0</td>\n",
       "      <td>113931.57</td>\n",
       "    </tr>\n",
       "    <tr>\n",
       "      <th>3</th>\n",
       "      <td>699</td>\n",
       "      <td>France</td>\n",
       "      <td>Female</td>\n",
       "      <td>39</td>\n",
       "      <td>1</td>\n",
       "      <td>0.00</td>\n",
       "      <td>2</td>\n",
       "      <td>0</td>\n",
       "      <td>0</td>\n",
       "      <td>93826.63</td>\n",
       "    </tr>\n",
       "    <tr>\n",
       "      <th>4</th>\n",
       "      <td>850</td>\n",
       "      <td>Spain</td>\n",
       "      <td>Female</td>\n",
       "      <td>43</td>\n",
       "      <td>2</td>\n",
       "      <td>125510.82</td>\n",
       "      <td>1</td>\n",
       "      <td>1</td>\n",
       "      <td>1</td>\n",
       "      <td>79084.10</td>\n",
       "    </tr>\n",
       "  </tbody>\n",
       "</table>\n",
       "</div>"
      ],
      "text/plain": [
       "   CreditScore Geography  Gender  Age  Tenure    Balance  NumOfProducts  \\\n",
       "0          619    France  Female   42       2       0.00              1   \n",
       "1          608     Spain  Female   41       1   83807.86              1   \n",
       "2          502    France  Female   42       8  159660.80              3   \n",
       "3          699    France  Female   39       1       0.00              2   \n",
       "4          850     Spain  Female   43       2  125510.82              1   \n",
       "\n",
       "   HasCrCard  IsActiveMember  EstimatedSalary  \n",
       "0          1               1        101348.88  \n",
       "1          0               1        112542.58  \n",
       "2          1               0        113931.57  \n",
       "3          0               0         93826.63  \n",
       "4          1               1         79084.10  "
      ]
     },
     "execution_count": 7,
     "metadata": {},
     "output_type": "execute_result"
    }
   ],
   "source": [
    "X.head()"
   ]
  },
  {
   "cell_type": "markdown",
   "id": "94afec1b",
   "metadata": {},
   "source": [
    "## Feature Engineering\n",
    "\n",
    "- Convert all categorical variables to numeric\n",
    "- Feature Scaling"
   ]
  },
  {
   "cell_type": "code",
   "execution_count": 8,
   "id": "2c6f4ac7",
   "metadata": {},
   "outputs": [
    {
     "name": "stdout",
     "output_type": "stream",
     "text": [
      "<class 'pandas.core.frame.DataFrame'>\n",
      "RangeIndex: 10000 entries, 0 to 9999\n",
      "Data columns (total 10 columns):\n",
      " #   Column           Non-Null Count  Dtype  \n",
      "---  ------           --------------  -----  \n",
      " 0   CreditScore      10000 non-null  int64  \n",
      " 1   Geography        10000 non-null  object \n",
      " 2   Gender           10000 non-null  object \n",
      " 3   Age              10000 non-null  int64  \n",
      " 4   Tenure           10000 non-null  int64  \n",
      " 5   Balance          10000 non-null  float64\n",
      " 6   NumOfProducts    10000 non-null  int64  \n",
      " 7   HasCrCard        10000 non-null  int64  \n",
      " 8   IsActiveMember   10000 non-null  int64  \n",
      " 9   EstimatedSalary  10000 non-null  float64\n",
      "dtypes: float64(2), int64(6), object(2)\n",
      "memory usage: 781.4+ KB\n"
     ]
    }
   ],
   "source": [
    "X.info()"
   ]
  },
  {
   "cell_type": "code",
   "execution_count": 9,
   "id": "cdde4d49",
   "metadata": {},
   "outputs": [
    {
     "data": {
      "text/plain": [
       "CreditScore         460\n",
       "Geography             3\n",
       "Gender                2\n",
       "Age                  70\n",
       "Tenure               11\n",
       "Balance            6382\n",
       "NumOfProducts         4\n",
       "HasCrCard             2\n",
       "IsActiveMember        2\n",
       "EstimatedSalary    9999\n",
       "dtype: int64"
      ]
     },
     "execution_count": 9,
     "metadata": {},
     "output_type": "execute_result"
    }
   ],
   "source": [
    "X.nunique()"
   ]
  },
  {
   "cell_type": "code",
   "execution_count": 14,
   "id": "20fcabdb",
   "metadata": {},
   "outputs": [
    {
     "data": {
      "text/plain": [
       "['Geography', 'Gender']"
      ]
     },
     "execution_count": 14,
     "metadata": {},
     "output_type": "execute_result"
    }
   ],
   "source": [
    "cat_feat = [feat for feat in X.columns if X[feat].dtypes == 'O']\n",
    "cat_feat"
   ]
  },
  {
   "cell_type": "code",
   "execution_count": 18,
   "id": "7a0f092e",
   "metadata": {},
   "outputs": [
    {
     "data": {
      "text/plain": [
       "Geography  Gender\n",
       "France     Male      2753\n",
       "           Female    2261\n",
       "Spain      Male      1388\n",
       "Germany    Male      1316\n",
       "           Female    1193\n",
       "Spain      Female    1089\n",
       "dtype: int64"
      ]
     },
     "execution_count": 18,
     "metadata": {},
     "output_type": "execute_result"
    }
   ],
   "source": [
    "X[cat_feat].value_counts()"
   ]
  },
  {
   "cell_type": "code",
   "execution_count": 17,
   "id": "8ac9b415",
   "metadata": {},
   "outputs": [
    {
     "data": {
      "text/plain": [
       "Geography    3\n",
       "Gender       2\n",
       "dtype: int64"
      ]
     },
     "execution_count": 17,
     "metadata": {},
     "output_type": "execute_result"
    }
   ],
   "source": [
    "X[cat_feat].nunique()"
   ]
  },
  {
   "cell_type": "code",
   "execution_count": 19,
   "id": "95995df5",
   "metadata": {},
   "outputs": [],
   "source": [
    "# Few categories for each feature - using dummy variables to replace categories\n",
    "\n",
    "geography = pd.get_dummies(X['Geography'], drop_first=True)\n",
    "gender = pd.get_dummies(X['Gender'], drop_first=True)"
   ]
  },
  {
   "cell_type": "code",
   "execution_count": 20,
   "id": "466d9245",
   "metadata": {},
   "outputs": [],
   "source": [
    "# dropping columns of the original categoral features in X data frame\n",
    "\n",
    "X = X.drop(cat_feat,axis=1)"
   ]
  },
  {
   "cell_type": "code",
   "execution_count": 21,
   "id": "fbfdb358",
   "metadata": {},
   "outputs": [
    {
     "data": {
      "text/html": [
       "<div>\n",
       "<style scoped>\n",
       "    .dataframe tbody tr th:only-of-type {\n",
       "        vertical-align: middle;\n",
       "    }\n",
       "\n",
       "    .dataframe tbody tr th {\n",
       "        vertical-align: top;\n",
       "    }\n",
       "\n",
       "    .dataframe thead th {\n",
       "        text-align: right;\n",
       "    }\n",
       "</style>\n",
       "<table border=\"1\" class=\"dataframe\">\n",
       "  <thead>\n",
       "    <tr style=\"text-align: right;\">\n",
       "      <th></th>\n",
       "      <th>CreditScore</th>\n",
       "      <th>Age</th>\n",
       "      <th>Tenure</th>\n",
       "      <th>Balance</th>\n",
       "      <th>NumOfProducts</th>\n",
       "      <th>HasCrCard</th>\n",
       "      <th>IsActiveMember</th>\n",
       "      <th>EstimatedSalary</th>\n",
       "    </tr>\n",
       "  </thead>\n",
       "  <tbody>\n",
       "    <tr>\n",
       "      <th>0</th>\n",
       "      <td>619</td>\n",
       "      <td>42</td>\n",
       "      <td>2</td>\n",
       "      <td>0.00</td>\n",
       "      <td>1</td>\n",
       "      <td>1</td>\n",
       "      <td>1</td>\n",
       "      <td>101348.88</td>\n",
       "    </tr>\n",
       "    <tr>\n",
       "      <th>1</th>\n",
       "      <td>608</td>\n",
       "      <td>41</td>\n",
       "      <td>1</td>\n",
       "      <td>83807.86</td>\n",
       "      <td>1</td>\n",
       "      <td>0</td>\n",
       "      <td>1</td>\n",
       "      <td>112542.58</td>\n",
       "    </tr>\n",
       "    <tr>\n",
       "      <th>2</th>\n",
       "      <td>502</td>\n",
       "      <td>42</td>\n",
       "      <td>8</td>\n",
       "      <td>159660.80</td>\n",
       "      <td>3</td>\n",
       "      <td>1</td>\n",
       "      <td>0</td>\n",
       "      <td>113931.57</td>\n",
       "    </tr>\n",
       "    <tr>\n",
       "      <th>3</th>\n",
       "      <td>699</td>\n",
       "      <td>39</td>\n",
       "      <td>1</td>\n",
       "      <td>0.00</td>\n",
       "      <td>2</td>\n",
       "      <td>0</td>\n",
       "      <td>0</td>\n",
       "      <td>93826.63</td>\n",
       "    </tr>\n",
       "    <tr>\n",
       "      <th>4</th>\n",
       "      <td>850</td>\n",
       "      <td>43</td>\n",
       "      <td>2</td>\n",
       "      <td>125510.82</td>\n",
       "      <td>1</td>\n",
       "      <td>1</td>\n",
       "      <td>1</td>\n",
       "      <td>79084.10</td>\n",
       "    </tr>\n",
       "  </tbody>\n",
       "</table>\n",
       "</div>"
      ],
      "text/plain": [
       "   CreditScore  Age  Tenure    Balance  NumOfProducts  HasCrCard  \\\n",
       "0          619   42       2       0.00              1          1   \n",
       "1          608   41       1   83807.86              1          0   \n",
       "2          502   42       8  159660.80              3          1   \n",
       "3          699   39       1       0.00              2          0   \n",
       "4          850   43       2  125510.82              1          1   \n",
       "\n",
       "   IsActiveMember  EstimatedSalary  \n",
       "0               1        101348.88  \n",
       "1               1        112542.58  \n",
       "2               0        113931.57  \n",
       "3               0         93826.63  \n",
       "4               1         79084.10  "
      ]
     },
     "execution_count": 21,
     "metadata": {},
     "output_type": "execute_result"
    }
   ],
   "source": [
    "X.head()"
   ]
  },
  {
   "cell_type": "code",
   "execution_count": 22,
   "id": "a2cb75c2",
   "metadata": {},
   "outputs": [
    {
     "data": {
      "text/html": [
       "<div>\n",
       "<style scoped>\n",
       "    .dataframe tbody tr th:only-of-type {\n",
       "        vertical-align: middle;\n",
       "    }\n",
       "\n",
       "    .dataframe tbody tr th {\n",
       "        vertical-align: top;\n",
       "    }\n",
       "\n",
       "    .dataframe thead th {\n",
       "        text-align: right;\n",
       "    }\n",
       "</style>\n",
       "<table border=\"1\" class=\"dataframe\">\n",
       "  <thead>\n",
       "    <tr style=\"text-align: right;\">\n",
       "      <th></th>\n",
       "      <th>CreditScore</th>\n",
       "      <th>Age</th>\n",
       "      <th>Tenure</th>\n",
       "      <th>Balance</th>\n",
       "      <th>NumOfProducts</th>\n",
       "      <th>HasCrCard</th>\n",
       "      <th>IsActiveMember</th>\n",
       "      <th>EstimatedSalary</th>\n",
       "      <th>Germany</th>\n",
       "      <th>Spain</th>\n",
       "      <th>Male</th>\n",
       "    </tr>\n",
       "  </thead>\n",
       "  <tbody>\n",
       "    <tr>\n",
       "      <th>0</th>\n",
       "      <td>619</td>\n",
       "      <td>42</td>\n",
       "      <td>2</td>\n",
       "      <td>0.00</td>\n",
       "      <td>1</td>\n",
       "      <td>1</td>\n",
       "      <td>1</td>\n",
       "      <td>101348.88</td>\n",
       "      <td>0</td>\n",
       "      <td>0</td>\n",
       "      <td>0</td>\n",
       "    </tr>\n",
       "    <tr>\n",
       "      <th>1</th>\n",
       "      <td>608</td>\n",
       "      <td>41</td>\n",
       "      <td>1</td>\n",
       "      <td>83807.86</td>\n",
       "      <td>1</td>\n",
       "      <td>0</td>\n",
       "      <td>1</td>\n",
       "      <td>112542.58</td>\n",
       "      <td>0</td>\n",
       "      <td>1</td>\n",
       "      <td>0</td>\n",
       "    </tr>\n",
       "    <tr>\n",
       "      <th>2</th>\n",
       "      <td>502</td>\n",
       "      <td>42</td>\n",
       "      <td>8</td>\n",
       "      <td>159660.80</td>\n",
       "      <td>3</td>\n",
       "      <td>1</td>\n",
       "      <td>0</td>\n",
       "      <td>113931.57</td>\n",
       "      <td>0</td>\n",
       "      <td>0</td>\n",
       "      <td>0</td>\n",
       "    </tr>\n",
       "    <tr>\n",
       "      <th>3</th>\n",
       "      <td>699</td>\n",
       "      <td>39</td>\n",
       "      <td>1</td>\n",
       "      <td>0.00</td>\n",
       "      <td>2</td>\n",
       "      <td>0</td>\n",
       "      <td>0</td>\n",
       "      <td>93826.63</td>\n",
       "      <td>0</td>\n",
       "      <td>0</td>\n",
       "      <td>0</td>\n",
       "    </tr>\n",
       "    <tr>\n",
       "      <th>4</th>\n",
       "      <td>850</td>\n",
       "      <td>43</td>\n",
       "      <td>2</td>\n",
       "      <td>125510.82</td>\n",
       "      <td>1</td>\n",
       "      <td>1</td>\n",
       "      <td>1</td>\n",
       "      <td>79084.10</td>\n",
       "      <td>0</td>\n",
       "      <td>1</td>\n",
       "      <td>0</td>\n",
       "    </tr>\n",
       "  </tbody>\n",
       "</table>\n",
       "</div>"
      ],
      "text/plain": [
       "   CreditScore  Age  Tenure    Balance  NumOfProducts  HasCrCard  \\\n",
       "0          619   42       2       0.00              1          1   \n",
       "1          608   41       1   83807.86              1          0   \n",
       "2          502   42       8  159660.80              3          1   \n",
       "3          699   39       1       0.00              2          0   \n",
       "4          850   43       2  125510.82              1          1   \n",
       "\n",
       "   IsActiveMember  EstimatedSalary  Germany  Spain  Male  \n",
       "0               1        101348.88        0      0     0  \n",
       "1               1        112542.58        0      1     0  \n",
       "2               0        113931.57        0      0     0  \n",
       "3               0         93826.63        0      0     0  \n",
       "4               1         79084.10        0      1     0  "
      ]
     },
     "execution_count": 22,
     "metadata": {},
     "output_type": "execute_result"
    }
   ],
   "source": [
    "# concatenate the geography and gender dummy variables with the X data frame\n",
    "\n",
    "X = pd.concat([X,geography,gender], axis=1)\n",
    "X.head()"
   ]
  },
  {
   "cell_type": "code",
   "execution_count": 24,
   "id": "81f73f1d",
   "metadata": {},
   "outputs": [],
   "source": [
    "#training and test split\n",
    "\n",
    "X_train,X_test,y_train,y_test = train_test_split(X,y,test_size=0.2,random_state=0)"
   ]
  },
  {
   "cell_type": "code",
   "execution_count": 26,
   "id": "3f368d58",
   "metadata": {},
   "outputs": [],
   "source": [
    "# feature scaling\n",
    "# standard scaler scales the entire data set with a zero mean and unit variance\n",
    "#using standard scaler -> because it works with using the Z-score\n",
    "\n",
    "sc = StandardScaler()\n",
    "X_train = sc.fit_transform(X_train)\n",
    "X_test = sc.transform(X_test)"
   ]
  },
  {
   "cell_type": "code",
   "execution_count": 29,
   "id": "2f08a975",
   "metadata": {},
   "outputs": [
    {
     "data": {
      "text/plain": [
       "array([[ 0.16958176, -0.46460796,  0.00666099, ..., -0.5698444 ,\n",
       "         1.74309049, -1.09168714],\n",
       "       [-2.30455945,  0.30102557, -1.37744033, ...,  1.75486502,\n",
       "        -0.57369368,  0.91601335],\n",
       "       [-1.19119591, -0.94312892, -1.031415  , ..., -0.5698444 ,\n",
       "        -0.57369368, -1.09168714],\n",
       "       ...,\n",
       "       [ 0.9015152 , -0.36890377,  0.00666099, ..., -0.5698444 ,\n",
       "        -0.57369368,  0.91601335],\n",
       "       [-0.62420521, -0.08179119,  1.39076231, ..., -0.5698444 ,\n",
       "         1.74309049, -1.09168714],\n",
       "       [-0.28401079,  0.87525072, -1.37744033, ...,  1.75486502,\n",
       "        -0.57369368, -1.09168714]])"
      ]
     },
     "execution_count": 29,
     "metadata": {},
     "output_type": "execute_result"
    }
   ],
   "source": [
    "X_train"
   ]
  },
  {
   "cell_type": "code",
   "execution_count": 30,
   "id": "f8098eec",
   "metadata": {},
   "outputs": [
    {
     "data": {
      "text/plain": [
       "(8000, 11)"
      ]
     },
     "execution_count": 30,
     "metadata": {},
     "output_type": "execute_result"
    }
   ],
   "source": [
    "X_train.shape"
   ]
  },
  {
   "cell_type": "markdown",
   "id": "3c18506e",
   "metadata": {},
   "source": [
    "## ANN\n",
    "\n",
    "Layers:\n",
    "- Sequential\n",
    "- Dense\n",
    "- Activation\n",
    "- Dropout\n",
    "\n",
    "Stages:\n",
    "1. Data clean / train test split / scale data\n",
    "2. Create the ANN\n",
    "3. Making the predictions and evaluating the model\n",
    "\n",
    "\n",
    "Layers:\n",
    "- Sequential\n",
    "- Dense\n",
    "- Activation\n",
    "- Dropout"
   ]
  },
  {
   "cell_type": "code",
   "execution_count": 72,
   "id": "936d4535",
   "metadata": {},
   "outputs": [],
   "source": [
    "# initalizing the ANN\n",
    "\n",
    "classifier = Sequential()"
   ]
  },
  {
   "cell_type": "code",
   "execution_count": 73,
   "id": "d45cf6c2",
   "metadata": {},
   "outputs": [],
   "source": [
    "# Adding the input Layer\n",
    "# There are 11 independent feautres\n",
    "# Need 1 neuron for each independent feature\n",
    "# The activation function (relu) will be applied to the next layer\n",
    "\n",
    "classifier.add(Dense(units=11, activation='relu'))"
   ]
  },
  {
   "cell_type": "code",
   "execution_count": 74,
   "id": "1a9cf98b",
   "metadata": {},
   "outputs": [],
   "source": [
    "# Adding the first hidden layer\n",
    "# picking 7 neurons as a starting point/guess\n",
    "\n",
    "classifier.add(Dense(units=7, activation='relu'))\n",
    "\n",
    "# Adding dropout function for this hidden layer\n",
    "# dropout -> 20%\n",
    "classifier.add(Dropout(0.2))"
   ]
  },
  {
   "cell_type": "code",
   "execution_count": 75,
   "id": "29d5fbea",
   "metadata": {},
   "outputs": [],
   "source": [
    "# adding the second hidden layer\n",
    "# picking 6 neurons as a starting point/guess\n",
    "\n",
    "classifier.add(Dense(units=7, activation='relu'))\n",
    "\n",
    "# Adding dropout function for this hidden layer\n",
    "# dropout -> 30%\n",
    "classifier.add(Dropout(0.3))"
   ]
  },
  {
   "cell_type": "code",
   "execution_count": 76,
   "id": "fe72277b",
   "metadata": {},
   "outputs": [],
   "source": [
    "# Adding output layer\n",
    "\n",
    "classifier.add(Dense(units=1, activation='sigmoid'))"
   ]
  },
  {
   "cell_type": "code",
   "execution_count": 77,
   "id": "77cf58ff",
   "metadata": {},
   "outputs": [],
   "source": [
    "# customizing the adam optimizer\n",
    "\n",
    "opt = tf.keras.optimizers.Adam(learning_rate=0.01)"
   ]
  },
  {
   "cell_type": "code",
   "execution_count": 78,
   "id": "67036554",
   "metadata": {},
   "outputs": [],
   "source": [
    "# adding optimizer to our classifier model\n",
    "\n",
    "#using standard optimizer\n",
    "#classifier.compile(optimizer='adam', loss='binary_crossentropy', metrics=['accuracy'])\n",
    "\n",
    "#using custom optimizer\n",
    "classifier.compile(optimizer=opt, loss='binary_crossentropy', metrics=['accuracy'])"
   ]
  },
  {
   "cell_type": "code",
   "execution_count": 55,
   "id": "97a3e36c",
   "metadata": {},
   "outputs": [
    {
     "name": "stdout",
     "output_type": "stream",
     "text": [
      "Epoch 1/100\n",
      "536/536 [==============================] - 1s 2ms/step - loss: 0.3038 - accuracy: 0.8690 - val_loss: 0.4708 - val_accuracy: 0.8489\n",
      "Epoch 2/100\n",
      "536/536 [==============================] - 1s 2ms/step - loss: 0.3028 - accuracy: 0.8684 - val_loss: 0.4673 - val_accuracy: 0.8470\n",
      "Epoch 3/100\n",
      "536/536 [==============================] - 1s 2ms/step - loss: 0.3027 - accuracy: 0.8666 - val_loss: 0.4477 - val_accuracy: 0.8482\n",
      "Epoch 4/100\n",
      "536/536 [==============================] - 1s 2ms/step - loss: 0.3011 - accuracy: 0.8688 - val_loss: 0.4787 - val_accuracy: 0.8504\n",
      "Epoch 5/100\n",
      "536/536 [==============================] - 1s 2ms/step - loss: 0.3021 - accuracy: 0.8716 - val_loss: 0.4673 - val_accuracy: 0.8508\n",
      "Epoch 6/100\n",
      "536/536 [==============================] - 1s 2ms/step - loss: 0.3027 - accuracy: 0.8703 - val_loss: 0.4898 - val_accuracy: 0.8512\n",
      "Epoch 7/100\n",
      "536/536 [==============================] - 1s 2ms/step - loss: 0.3033 - accuracy: 0.8688 - val_loss: 0.4678 - val_accuracy: 0.8478\n",
      "Epoch 8/100\n",
      "536/536 [==============================] - 1s 2ms/step - loss: 0.3040 - accuracy: 0.8675 - val_loss: 0.4910 - val_accuracy: 0.8489\n",
      "Epoch 9/100\n",
      "536/536 [==============================] - 1s 2ms/step - loss: 0.3015 - accuracy: 0.8701 - val_loss: 0.5212 - val_accuracy: 0.8482\n",
      "Epoch 10/100\n",
      "536/536 [==============================] - 1s 2ms/step - loss: 0.3061 - accuracy: 0.8673 - val_loss: 0.4845 - val_accuracy: 0.8485\n",
      "Epoch 11/100\n",
      "536/536 [==============================] - 1s 2ms/step - loss: 0.2988 - accuracy: 0.8701 - val_loss: 0.4711 - val_accuracy: 0.8554\n",
      "Epoch 12/100\n",
      "536/536 [==============================] - 1s 2ms/step - loss: 0.3030 - accuracy: 0.8684 - val_loss: 0.4867 - val_accuracy: 0.8531\n",
      "Epoch 13/100\n",
      "536/536 [==============================] - 1s 2ms/step - loss: 0.3008 - accuracy: 0.8696 - val_loss: 0.5226 - val_accuracy: 0.8497\n",
      "Epoch 14/100\n",
      "536/536 [==============================] - 1s 2ms/step - loss: 0.3027 - accuracy: 0.8707 - val_loss: 0.5047 - val_accuracy: 0.8519\n",
      "Epoch 15/100\n",
      "536/536 [==============================] - 1s 2ms/step - loss: 0.3025 - accuracy: 0.8714 - val_loss: 0.5016 - val_accuracy: 0.8519\n",
      "Epoch 16/100\n",
      "536/536 [==============================] - 1s 2ms/step - loss: 0.3067 - accuracy: 0.8696 - val_loss: 0.4672 - val_accuracy: 0.8501\n",
      "Epoch 17/100\n",
      "536/536 [==============================] - 1s 2ms/step - loss: 0.3060 - accuracy: 0.8690 - val_loss: 0.4513 - val_accuracy: 0.8470\n",
      "Epoch 18/100\n",
      "536/536 [==============================] - 1s 2ms/step - loss: 0.3027 - accuracy: 0.8701 - val_loss: 0.4437 - val_accuracy: 0.8508\n",
      "Epoch 19/100\n",
      "536/536 [==============================] - 1s 2ms/step - loss: 0.3001 - accuracy: 0.8690 - val_loss: 0.4498 - val_accuracy: 0.8512\n",
      "Epoch 20/100\n",
      "536/536 [==============================] - 1s 2ms/step - loss: 0.3012 - accuracy: 0.8688 - val_loss: 0.4494 - val_accuracy: 0.8561\n",
      "Epoch 21/100\n",
      "536/536 [==============================] - 1s 2ms/step - loss: 0.3052 - accuracy: 0.8662 - val_loss: 0.4533 - val_accuracy: 0.8485\n",
      "Epoch 22/100\n",
      "536/536 [==============================] - 1s 2ms/step - loss: 0.3037 - accuracy: 0.8699 - val_loss: 0.4879 - val_accuracy: 0.8497\n",
      "Epoch 23/100\n",
      "536/536 [==============================] - 1s 2ms/step - loss: 0.2978 - accuracy: 0.8731 - val_loss: 0.4989 - val_accuracy: 0.8550\n",
      "Epoch 24/100\n",
      "536/536 [==============================] - 1s 2ms/step - loss: 0.3041 - accuracy: 0.8705 - val_loss: 0.4713 - val_accuracy: 0.8542\n",
      "Epoch 25/100\n",
      "536/536 [==============================] - 1s 2ms/step - loss: 0.3066 - accuracy: 0.8711 - val_loss: 0.4747 - val_accuracy: 0.8542\n",
      "Epoch 26/100\n",
      "536/536 [==============================] - 1s 2ms/step - loss: 0.3027 - accuracy: 0.8688 - val_loss: 0.4870 - val_accuracy: 0.8538\n",
      "Epoch 27/100\n",
      "536/536 [==============================] - 1s 2ms/step - loss: 0.3020 - accuracy: 0.8712 - val_loss: 0.5175 - val_accuracy: 0.8504\n",
      "Epoch 28/100\n",
      "536/536 [==============================] - 1s 2ms/step - loss: 0.3040 - accuracy: 0.8690 - val_loss: 0.4417 - val_accuracy: 0.8474\n",
      "Epoch 29/100\n",
      "536/536 [==============================] - 1s 2ms/step - loss: 0.3017 - accuracy: 0.8664 - val_loss: 0.4835 - val_accuracy: 0.8463\n",
      "Epoch 30/100\n",
      "536/536 [==============================] - 1s 2ms/step - loss: 0.3007 - accuracy: 0.8703 - val_loss: 0.4996 - val_accuracy: 0.8501\n",
      "Epoch 31/100\n",
      "536/536 [==============================] - 1s 2ms/step - loss: 0.3042 - accuracy: 0.8724 - val_loss: 0.4899 - val_accuracy: 0.8466\n",
      "Epoch 32/100\n",
      "536/536 [==============================] - 1s 2ms/step - loss: 0.3027 - accuracy: 0.8690 - val_loss: 0.4868 - val_accuracy: 0.8497\n",
      "Epoch 33/100\n",
      "536/536 [==============================] - 1s 2ms/step - loss: 0.3001 - accuracy: 0.8698 - val_loss: 0.4540 - val_accuracy: 0.8535\n",
      "Epoch 34/100\n",
      "536/536 [==============================] - 1s 2ms/step - loss: 0.3015 - accuracy: 0.8699 - val_loss: 0.4692 - val_accuracy: 0.8474\n",
      "Epoch 35/100\n",
      "536/536 [==============================] - 1s 2ms/step - loss: 0.2994 - accuracy: 0.8671 - val_loss: 0.4953 - val_accuracy: 0.8493\n",
      "Epoch 36/100\n",
      "536/536 [==============================] - 1s 2ms/step - loss: 0.3034 - accuracy: 0.8701 - val_loss: 0.5546 - val_accuracy: 0.8516\n",
      "Epoch 37/100\n",
      "536/536 [==============================] - 1s 2ms/step - loss: 0.3053 - accuracy: 0.8686 - val_loss: 0.4769 - val_accuracy: 0.8519\n",
      "Epoch 38/100\n",
      "536/536 [==============================] - 1s 2ms/step - loss: 0.2998 - accuracy: 0.8694 - val_loss: 0.4761 - val_accuracy: 0.8512\n",
      "Epoch 39/100\n",
      "536/536 [==============================] - 1s 2ms/step - loss: 0.3022 - accuracy: 0.8711 - val_loss: 0.4392 - val_accuracy: 0.8542\n",
      "Epoch 40/100\n",
      "536/536 [==============================] - 1s 2ms/step - loss: 0.3021 - accuracy: 0.8658 - val_loss: 0.4703 - val_accuracy: 0.8516\n",
      "Epoch 41/100\n",
      "536/536 [==============================] - 1s 2ms/step - loss: 0.3016 - accuracy: 0.8688 - val_loss: 0.5229 - val_accuracy: 0.8519\n",
      "Epoch 42/100\n",
      "536/536 [==============================] - 1s 2ms/step - loss: 0.3018 - accuracy: 0.8677 - val_loss: 0.5198 - val_accuracy: 0.8523\n",
      "Epoch 43/100\n",
      "536/536 [==============================] - 1s 2ms/step - loss: 0.3008 - accuracy: 0.8694 - val_loss: 0.4728 - val_accuracy: 0.8463\n",
      "Epoch 44/100\n",
      "536/536 [==============================] - 1s 2ms/step - loss: 0.3031 - accuracy: 0.8707 - val_loss: 0.4426 - val_accuracy: 0.8535\n",
      "Epoch 45/100\n",
      "536/536 [==============================] - 1s 2ms/step - loss: 0.3051 - accuracy: 0.8688 - val_loss: 0.4533 - val_accuracy: 0.8557\n",
      "Epoch 46/100\n",
      "536/536 [==============================] - 1s 2ms/step - loss: 0.3040 - accuracy: 0.8664 - val_loss: 0.4707 - val_accuracy: 0.8289\n",
      "Epoch 47/100\n",
      "536/536 [==============================] - 1s 2ms/step - loss: 0.3053 - accuracy: 0.8655 - val_loss: 0.4507 - val_accuracy: 0.8501\n",
      "Epoch 48/100\n",
      "536/536 [==============================] - 1s 2ms/step - loss: 0.3002 - accuracy: 0.8707 - val_loss: 0.4991 - val_accuracy: 0.8489\n",
      "Epoch 49/100\n",
      "536/536 [==============================] - 1s 2ms/step - loss: 0.3008 - accuracy: 0.8716 - val_loss: 0.4947 - val_accuracy: 0.8459\n",
      "Epoch 50/100\n",
      "536/536 [==============================] - 1s 2ms/step - loss: 0.3024 - accuracy: 0.8716 - val_loss: 0.4725 - val_accuracy: 0.8395\n",
      "Epoch 51/100\n",
      "536/536 [==============================] - 1s 2ms/step - loss: 0.3053 - accuracy: 0.8707 - val_loss: 0.5291 - val_accuracy: 0.8501\n",
      "Epoch 52/100\n",
      "536/536 [==============================] - 1s 2ms/step - loss: 0.3004 - accuracy: 0.8703 - val_loss: 0.4933 - val_accuracy: 0.8516\n",
      "Epoch 53/100\n",
      "536/536 [==============================] - 1s 2ms/step - loss: 0.3009 - accuracy: 0.8729 - val_loss: 0.4706 - val_accuracy: 0.8497\n",
      "Epoch 54/100\n",
      "536/536 [==============================] - 1s 2ms/step - loss: 0.3025 - accuracy: 0.8681 - val_loss: 0.4432 - val_accuracy: 0.8451\n",
      "Epoch 55/100\n",
      "536/536 [==============================] - 1s 2ms/step - loss: 0.3030 - accuracy: 0.8673 - val_loss: 0.4704 - val_accuracy: 0.8516\n",
      "Epoch 56/100\n",
      "536/536 [==============================] - 1s 2ms/step - loss: 0.3031 - accuracy: 0.8714 - val_loss: 0.4624 - val_accuracy: 0.8360\n",
      "Epoch 57/100\n",
      "536/536 [==============================] - 1s 2ms/step - loss: 0.3007 - accuracy: 0.8729 - val_loss: 0.4793 - val_accuracy: 0.8376\n"
     ]
    },
    {
     "name": "stdout",
     "output_type": "stream",
     "text": [
      "Epoch 58/100\n",
      "536/536 [==============================] - 1s 2ms/step - loss: 0.3011 - accuracy: 0.8705 - val_loss: 0.4924 - val_accuracy: 0.8376\n",
      "Epoch 59/100\n",
      "536/536 [==============================] - 1s 2ms/step - loss: 0.2998 - accuracy: 0.8705 - val_loss: 0.4643 - val_accuracy: 0.8504\n",
      "Epoch 60/100\n",
      "536/536 [==============================] - 1s 2ms/step - loss: 0.2985 - accuracy: 0.8720 - val_loss: 0.4942 - val_accuracy: 0.8527\n",
      "Epoch 61/100\n",
      "536/536 [==============================] - 1s 2ms/step - loss: 0.3037 - accuracy: 0.8692 - val_loss: 0.4827 - val_accuracy: 0.8508\n",
      "Epoch 62/100\n",
      "536/536 [==============================] - 1s 2ms/step - loss: 0.2997 - accuracy: 0.8703 - val_loss: 0.5094 - val_accuracy: 0.8497\n",
      "Epoch 63/100\n",
      "536/536 [==============================] - 1s 2ms/step - loss: 0.2992 - accuracy: 0.8705 - val_loss: 0.5101 - val_accuracy: 0.8292\n",
      "Epoch 64/100\n",
      "536/536 [==============================] - 1s 2ms/step - loss: 0.2995 - accuracy: 0.8701 - val_loss: 0.4873 - val_accuracy: 0.8508\n",
      "Epoch 65/100\n",
      "536/536 [==============================] - 1s 2ms/step - loss: 0.3029 - accuracy: 0.8712 - val_loss: 0.5180 - val_accuracy: 0.8508\n",
      "Epoch 66/100\n",
      "536/536 [==============================] - 1s 2ms/step - loss: 0.2996 - accuracy: 0.8684 - val_loss: 0.4826 - val_accuracy: 0.8531\n",
      "Epoch 67/100\n",
      "536/536 [==============================] - 1s 2ms/step - loss: 0.3011 - accuracy: 0.8711 - val_loss: 0.4940 - val_accuracy: 0.8512\n",
      "Epoch 68/100\n",
      "536/536 [==============================] - 1s 2ms/step - loss: 0.3037 - accuracy: 0.8716 - val_loss: 0.4466 - val_accuracy: 0.8512\n",
      "Epoch 69/100\n",
      "536/536 [==============================] - 1s 2ms/step - loss: 0.3023 - accuracy: 0.8709 - val_loss: 0.4639 - val_accuracy: 0.8538\n",
      "Epoch 70/100\n",
      "536/536 [==============================] - 1s 2ms/step - loss: 0.3008 - accuracy: 0.8716 - val_loss: 0.4952 - val_accuracy: 0.8508\n",
      "Epoch 71/100\n",
      "536/536 [==============================] - 1s 2ms/step - loss: 0.3025 - accuracy: 0.8707 - val_loss: 0.5000 - val_accuracy: 0.8478\n",
      "Epoch 72/100\n",
      "536/536 [==============================] - 1s 2ms/step - loss: 0.3014 - accuracy: 0.8729 - val_loss: 0.4766 - val_accuracy: 0.8512\n",
      "Epoch 73/100\n",
      "536/536 [==============================] - 1s 2ms/step - loss: 0.3009 - accuracy: 0.8720 - val_loss: 0.5122 - val_accuracy: 0.8516\n",
      "Epoch 74/100\n",
      "536/536 [==============================] - 1s 2ms/step - loss: 0.3048 - accuracy: 0.8677 - val_loss: 0.4854 - val_accuracy: 0.8489\n",
      "Epoch 75/100\n",
      "536/536 [==============================] - 1s 2ms/step - loss: 0.3028 - accuracy: 0.8686 - val_loss: 0.4851 - val_accuracy: 0.8493\n",
      "Epoch 76/100\n",
      "536/536 [==============================] - 1s 2ms/step - loss: 0.3045 - accuracy: 0.8709 - val_loss: 0.4593 - val_accuracy: 0.8470\n",
      "Epoch 77/100\n",
      "536/536 [==============================] - 1s 2ms/step - loss: 0.2995 - accuracy: 0.8701 - val_loss: 0.4919 - val_accuracy: 0.8289\n",
      "Epoch 78/100\n",
      "536/536 [==============================] - 1s 2ms/step - loss: 0.3034 - accuracy: 0.8688 - val_loss: 0.4877 - val_accuracy: 0.8497\n",
      "Epoch 79/100\n",
      "536/536 [==============================] - 1s 2ms/step - loss: 0.3026 - accuracy: 0.8692 - val_loss: 0.5099 - val_accuracy: 0.8478\n",
      "Epoch 80/100\n",
      "536/536 [==============================] - 1s 2ms/step - loss: 0.2990 - accuracy: 0.8714 - val_loss: 0.4950 - val_accuracy: 0.8501\n",
      "Epoch 81/100\n",
      "536/536 [==============================] - 1s 2ms/step - loss: 0.2968 - accuracy: 0.8720 - val_loss: 0.5436 - val_accuracy: 0.8459\n",
      "Epoch 82/100\n",
      "536/536 [==============================] - 1s 2ms/step - loss: 0.3012 - accuracy: 0.8718 - val_loss: 0.4807 - val_accuracy: 0.8444\n",
      "Epoch 83/100\n",
      "536/536 [==============================] - 1s 2ms/step - loss: 0.3005 - accuracy: 0.8726 - val_loss: 0.5070 - val_accuracy: 0.8432\n",
      "Epoch 84/100\n",
      "536/536 [==============================] - 1s 2ms/step - loss: 0.3024 - accuracy: 0.8692 - val_loss: 0.5167 - val_accuracy: 0.8497\n",
      "Epoch 85/100\n",
      "536/536 [==============================] - 1s 2ms/step - loss: 0.2995 - accuracy: 0.8705 - val_loss: 0.5181 - val_accuracy: 0.8289\n",
      "Epoch 86/100\n",
      "536/536 [==============================] - 1s 2ms/step - loss: 0.3014 - accuracy: 0.8696 - val_loss: 0.5013 - val_accuracy: 0.8273\n",
      "Epoch 87/100\n",
      "536/536 [==============================] - 1s 2ms/step - loss: 0.3016 - accuracy: 0.8707 - val_loss: 0.4678 - val_accuracy: 0.8516\n",
      "Epoch 88/100\n",
      "536/536 [==============================] - 1s 2ms/step - loss: 0.3009 - accuracy: 0.8699 - val_loss: 0.5036 - val_accuracy: 0.8501\n",
      "Epoch 89/100\n",
      "536/536 [==============================] - 1s 2ms/step - loss: 0.3026 - accuracy: 0.8699 - val_loss: 0.5367 - val_accuracy: 0.8497\n",
      "Epoch 90/100\n",
      "536/536 [==============================] - 1s 2ms/step - loss: 0.3022 - accuracy: 0.8722 - val_loss: 0.4819 - val_accuracy: 0.8512\n",
      "Epoch 91/100\n",
      "536/536 [==============================] - 1s 2ms/step - loss: 0.3023 - accuracy: 0.8692 - val_loss: 0.4591 - val_accuracy: 0.8527\n",
      "Epoch 92/100\n",
      "536/536 [==============================] - 1s 2ms/step - loss: 0.3020 - accuracy: 0.8720 - val_loss: 0.4923 - val_accuracy: 0.8459\n",
      "Epoch 93/100\n",
      "536/536 [==============================] - 1s 2ms/step - loss: 0.3053 - accuracy: 0.8690 - val_loss: 0.4884 - val_accuracy: 0.8527\n",
      "Epoch 94/100\n",
      "536/536 [==============================] - 1s 2ms/step - loss: 0.3004 - accuracy: 0.8711 - val_loss: 0.5344 - val_accuracy: 0.8523\n",
      "Epoch 95/100\n",
      "536/536 [==============================] - 1s 2ms/step - loss: 0.2996 - accuracy: 0.8727 - val_loss: 0.5032 - val_accuracy: 0.8523\n",
      "Epoch 96/100\n",
      "536/536 [==============================] - 1s 2ms/step - loss: 0.3014 - accuracy: 0.8735 - val_loss: 0.4921 - val_accuracy: 0.8497\n",
      "Epoch 97/100\n",
      "536/536 [==============================] - 1s 2ms/step - loss: 0.3049 - accuracy: 0.8686 - val_loss: 0.4873 - val_accuracy: 0.8527\n",
      "Epoch 98/100\n",
      "536/536 [==============================] - 1s 2ms/step - loss: 0.3035 - accuracy: 0.8698 - val_loss: 0.4338 - val_accuracy: 0.8531\n",
      "Epoch 99/100\n",
      "536/536 [==============================] - 1s 2ms/step - loss: 0.3054 - accuracy: 0.8679 - val_loss: 0.4602 - val_accuracy: 0.8527\n",
      "Epoch 100/100\n",
      "536/536 [==============================] - 1s 2ms/step - loss: 0.3016 - accuracy: 0.8705 - val_loss: 0.4543 - val_accuracy: 0.8561\n"
     ]
    }
   ],
   "source": [
    "# training the neural network\n",
    "\n",
    "# before using early stopping\n",
    "# epoch = 100\n",
    "\n",
    "model_history1=classifier.fit(X_train,y_train,validation_split=0.33, batch_size=10, epochs=100)"
   ]
  },
  {
   "cell_type": "code",
   "execution_count": 56,
   "id": "efd42204",
   "metadata": {},
   "outputs": [
    {
     "data": {
      "text/plain": [
       "dict_keys(['loss', 'accuracy', 'val_loss', 'val_accuracy'])"
      ]
     },
     "execution_count": 56,
     "metadata": {},
     "output_type": "execute_result"
    }
   ],
   "source": [
    "model_history1.history.keys()"
   ]
  },
  {
   "cell_type": "code",
   "execution_count": 57,
   "id": "6de9b51a",
   "metadata": {},
   "outputs": [
    {
     "data": {
      "image/png": "[encoded data removed]",
      "text/plain": [
       "<Figure size 640x480 with 1 Axes>"
      ]
     },
     "metadata": {},
     "output_type": "display_data"
    }
   ],
   "source": [
    "# summarize history for accuracy\n",
    "plt.plot(model_history1.history['accuracy'])\n",
    "plt.plot(model_history1.history['val_accuracy'])\n",
    "plt.title('model accuracy (epoch 100)')\n",
    "plt.ylabel('accuracy')\n",
    "plt.xlabel('epoch')\n",
    "plt.legend(['train','test'], loc='upper left')\n",
    "plt.show()"
   ]
  },
  {
   "cell_type": "code",
   "execution_count": 61,
   "id": "9830a473",
   "metadata": {},
   "outputs": [
    {
     "data": {
      "image/png": "[encoded data removed]",
      "text/plain": [
       "<Figure size 640x480 with 1 Axes>"
      ]
     },
     "metadata": {},
     "output_type": "display_data"
    }
   ],
   "source": [
    "# summarize history for loss\n",
    "plt.plot(model_history1.history['loss'])\n",
    "plt.plot(model_history1.history['val_loss'])\n",
    "plt.title('model loss (epoch 100)')\n",
    "plt.ylabel('loss')\n",
    "plt.xlabel('epoch')\n",
    "plt.legend(['train','test'], loc='upper left')\n",
    "plt.show()"
   ]
  },
  {
   "cell_type": "code",
   "execution_count": 79,
   "id": "5a5702a7",
   "metadata": {},
   "outputs": [],
   "source": [
    "# Early stopping - information pulled from keras\n",
    "# https://keras.io/api/callbacks/early_stopping/\n",
    "# will stop training the neural network once given conditions are meet\n",
    "# returning the most accurate model in the fastest time\n",
    "\n",
    "# playing with variables\n",
    "early_stopping = tf.keras.callbacks.EarlyStopping(\n",
    "    monitor=\"val_loss\",\n",
    "    min_delta=0.0001,\n",
    "    patience=20,\n",
    "    verbose=1,\n",
    "    mode=\"auto\",\n",
    "    baseline=None,\n",
    "    restore_best_weights=False,\n",
    "    start_from_epoch=0,\n",
    ")"
   ]
  },
  {
   "cell_type": "code",
   "execution_count": 80,
   "id": "11f19567",
   "metadata": {},
   "outputs": [
    {
     "name": "stdout",
     "output_type": "stream",
     "text": [
      "Epoch 1/1000\n",
      "536/536 [==============================] - 2s 2ms/step - loss: 0.4810 - accuracy: 0.7968 - val_loss: 0.4328 - val_accuracy: 0.7955\n",
      "Epoch 2/1000\n",
      "536/536 [==============================] - 1s 2ms/step - loss: 0.4451 - accuracy: 0.8160 - val_loss: 0.4257 - val_accuracy: 0.8254\n",
      "Epoch 3/1000\n",
      "536/536 [==============================] - 1s 2ms/step - loss: 0.4278 - accuracy: 0.8259 - val_loss: 0.4002 - val_accuracy: 0.8334\n",
      "Epoch 4/1000\n",
      "536/536 [==============================] - 1s 2ms/step - loss: 0.4079 - accuracy: 0.8291 - val_loss: 0.3950 - val_accuracy: 0.8421\n",
      "Epoch 5/1000\n",
      "536/536 [==============================] - 1s 2ms/step - loss: 0.3948 - accuracy: 0.8425 - val_loss: 0.3916 - val_accuracy: 0.8425\n",
      "Epoch 6/1000\n",
      "536/536 [==============================] - 1s 2ms/step - loss: 0.3978 - accuracy: 0.8289 - val_loss: 0.3824 - val_accuracy: 0.8436\n",
      "Epoch 7/1000\n",
      "536/536 [==============================] - 1s 2ms/step - loss: 0.3853 - accuracy: 0.8388 - val_loss: 0.3731 - val_accuracy: 0.8376\n",
      "Epoch 8/1000\n",
      "536/536 [==============================] - 1s 2ms/step - loss: 0.3854 - accuracy: 0.8367 - val_loss: 0.3760 - val_accuracy: 0.8429\n",
      "Epoch 9/1000\n",
      "536/536 [==============================] - 1s 2ms/step - loss: 0.3843 - accuracy: 0.8375 - val_loss: 0.3720 - val_accuracy: 0.8436\n",
      "Epoch 10/1000\n",
      "536/536 [==============================] - 1s 2ms/step - loss: 0.3863 - accuracy: 0.8378 - val_loss: 0.3814 - val_accuracy: 0.8395\n",
      "Epoch 11/1000\n",
      "536/536 [==============================] - 1s 2ms/step - loss: 0.3854 - accuracy: 0.8390 - val_loss: 0.3808 - val_accuracy: 0.8353\n",
      "Epoch 12/1000\n",
      "536/536 [==============================] - 1s 2ms/step - loss: 0.3802 - accuracy: 0.8433 - val_loss: 0.3856 - val_accuracy: 0.8429\n",
      "Epoch 13/1000\n",
      "536/536 [==============================] - 1s 2ms/step - loss: 0.3828 - accuracy: 0.8461 - val_loss: 0.3706 - val_accuracy: 0.8421\n",
      "Epoch 14/1000\n",
      "536/536 [==============================] - 1s 2ms/step - loss: 0.3829 - accuracy: 0.8490 - val_loss: 0.3896 - val_accuracy: 0.8406\n",
      "Epoch 15/1000\n",
      "536/536 [==============================] - 1s 2ms/step - loss: 0.3827 - accuracy: 0.8438 - val_loss: 0.3718 - val_accuracy: 0.8501\n",
      "Epoch 16/1000\n",
      "536/536 [==============================] - 1s 2ms/step - loss: 0.3901 - accuracy: 0.8377 - val_loss: 0.3733 - val_accuracy: 0.8391\n",
      "Epoch 17/1000\n",
      "536/536 [==============================] - 1s 2ms/step - loss: 0.3756 - accuracy: 0.8477 - val_loss: 0.3687 - val_accuracy: 0.8482\n",
      "Epoch 18/1000\n",
      "536/536 [==============================] - 1s 2ms/step - loss: 0.3769 - accuracy: 0.8490 - val_loss: 0.3732 - val_accuracy: 0.8444\n",
      "Epoch 19/1000\n",
      "536/536 [==============================] - 1s 2ms/step - loss: 0.3770 - accuracy: 0.8468 - val_loss: 0.3667 - val_accuracy: 0.8519\n",
      "Epoch 20/1000\n",
      "536/536 [==============================] - 1s 2ms/step - loss: 0.3718 - accuracy: 0.8546 - val_loss: 0.3770 - val_accuracy: 0.8470\n",
      "Epoch 21/1000\n",
      "536/536 [==============================] - 1s 2ms/step - loss: 0.3780 - accuracy: 0.8362 - val_loss: 0.3787 - val_accuracy: 0.8364\n",
      "Epoch 22/1000\n",
      "536/536 [==============================] - 1s 2ms/step - loss: 0.3766 - accuracy: 0.8470 - val_loss: 0.3595 - val_accuracy: 0.8557\n",
      "Epoch 23/1000\n",
      "536/536 [==============================] - 1s 2ms/step - loss: 0.3768 - accuracy: 0.8466 - val_loss: 0.3774 - val_accuracy: 0.8417\n",
      "Epoch 24/1000\n",
      "536/536 [==============================] - 1s 2ms/step - loss: 0.3736 - accuracy: 0.8498 - val_loss: 0.3680 - val_accuracy: 0.8519\n",
      "Epoch 25/1000\n",
      "536/536 [==============================] - 1s 2ms/step - loss: 0.3746 - accuracy: 0.8425 - val_loss: 0.3768 - val_accuracy: 0.8493\n",
      "Epoch 26/1000\n",
      "536/536 [==============================] - 1s 2ms/step - loss: 0.3720 - accuracy: 0.8474 - val_loss: 0.3724 - val_accuracy: 0.8474\n",
      "Epoch 27/1000\n",
      "536/536 [==============================] - 1s 2ms/step - loss: 0.3695 - accuracy: 0.8517 - val_loss: 0.3686 - val_accuracy: 0.8516\n",
      "Epoch 28/1000\n",
      "536/536 [==============================] - 1s 3ms/step - loss: 0.3748 - accuracy: 0.8490 - val_loss: 0.3665 - val_accuracy: 0.8485\n",
      "Epoch 29/1000\n",
      "536/536 [==============================] - 1s 2ms/step - loss: 0.3686 - accuracy: 0.8502 - val_loss: 0.3678 - val_accuracy: 0.8436\n",
      "Epoch 30/1000\n",
      "536/536 [==============================] - 1s 2ms/step - loss: 0.3662 - accuracy: 0.8513 - val_loss: 0.3623 - val_accuracy: 0.8542\n",
      "Epoch 31/1000\n",
      "536/536 [==============================] - 1s 2ms/step - loss: 0.3702 - accuracy: 0.8446 - val_loss: 0.3800 - val_accuracy: 0.8504\n",
      "Epoch 32/1000\n",
      "536/536 [==============================] - 1s 2ms/step - loss: 0.3719 - accuracy: 0.8444 - val_loss: 0.3711 - val_accuracy: 0.8489\n",
      "Epoch 33/1000\n",
      "536/536 [==============================] - 1s 2ms/step - loss: 0.3690 - accuracy: 0.8487 - val_loss: 0.3873 - val_accuracy: 0.8406\n",
      "Epoch 34/1000\n",
      "536/536 [==============================] - 1s 2ms/step - loss: 0.3651 - accuracy: 0.8537 - val_loss: 0.3634 - val_accuracy: 0.8531\n",
      "Epoch 35/1000\n",
      "536/536 [==============================] - 1s 2ms/step - loss: 0.3668 - accuracy: 0.8502 - val_loss: 0.3876 - val_accuracy: 0.8546\n",
      "Epoch 36/1000\n",
      "536/536 [==============================] - 1s 2ms/step - loss: 0.3688 - accuracy: 0.8526 - val_loss: 0.3697 - val_accuracy: 0.8470\n",
      "Epoch 37/1000\n",
      "536/536 [==============================] - 1s 2ms/step - loss: 0.3698 - accuracy: 0.8500 - val_loss: 0.3638 - val_accuracy: 0.8535\n",
      "Epoch 38/1000\n",
      "536/536 [==============================] - 1s 2ms/step - loss: 0.3644 - accuracy: 0.8533 - val_loss: 0.3692 - val_accuracy: 0.8474\n",
      "Epoch 39/1000\n",
      "536/536 [==============================] - 1s 2ms/step - loss: 0.3664 - accuracy: 0.8559 - val_loss: 0.3642 - val_accuracy: 0.8527\n",
      "Epoch 40/1000\n",
      "536/536 [==============================] - 1s 2ms/step - loss: 0.3596 - accuracy: 0.8526 - val_loss: 0.3674 - val_accuracy: 0.8493\n",
      "Epoch 41/1000\n",
      "536/536 [==============================] - 1s 2ms/step - loss: 0.3764 - accuracy: 0.8461 - val_loss: 0.3784 - val_accuracy: 0.8383\n",
      "Epoch 42/1000\n",
      "536/536 [==============================] - 1s 2ms/step - loss: 0.3726 - accuracy: 0.8425 - val_loss: 0.3778 - val_accuracy: 0.8413\n",
      "Epoch 42: early stopping\n"
     ]
    }
   ],
   "source": [
    "# training the neural network\n",
    "\n",
    "# after using early stopping\n",
    "# epochs = 1000\n",
    "# early stopping occured at 35 epoch\n",
    "\n",
    "model_history2=classifier.fit(X_train,y_train,validation_split=0.33, batch_size=10, epochs=1000, callbacks=early_stopping)"
   ]
  },
  {
   "cell_type": "code",
   "execution_count": 81,
   "id": "4ad6df0b",
   "metadata": {},
   "outputs": [
    {
     "data": {
      "text/plain": [
       "dict_keys(['loss', 'accuracy', 'val_loss', 'val_accuracy'])"
      ]
     },
     "execution_count": 81,
     "metadata": {},
     "output_type": "execute_result"
    }
   ],
   "source": [
    "#what parameters we are focused on\n",
    "\n",
    "model_history2.history.keys()"
   ]
  },
  {
   "cell_type": "code",
   "execution_count": 82,
   "id": "e9f737eb",
   "metadata": {},
   "outputs": [
    {
     "data": {
      "image/png": "[encoded data removed]",
      "text/plain": [
       "<Figure size 640x480 with 1 Axes>"
      ]
     },
     "metadata": {},
     "output_type": "display_data"
    }
   ],
   "source": [
    "# summarize history for accuracy\n",
    "plt.plot(model_history2.history['accuracy'])\n",
    "plt.plot(model_history2.history['val_accuracy'])\n",
    "plt.title('model accuracy (early stop)')\n",
    "plt.ylabel('accuracy')\n",
    "plt.xlabel('epoch')\n",
    "plt.legend(['train','test'], loc='upper left')\n",
    "plt.show()"
   ]
  },
  {
   "cell_type": "code",
   "execution_count": 83,
   "id": "a2e1b085",
   "metadata": {},
   "outputs": [
    {
     "data": {
      "image/png": "[encoded data removed]",
      "text/plain": [
       "<Figure size 640x480 with 1 Axes>"
      ]
     },
     "metadata": {},
     "output_type": "display_data"
    }
   ],
   "source": [
    "# summarize history for loss\n",
    "plt.plot(model_history2.history['loss'])\n",
    "plt.plot(model_history2.history['val_loss'])\n",
    "plt.title('model loss (early stopping)')\n",
    "plt.ylabel('loss')\n",
    "plt.xlabel('epoch')\n",
    "plt.legend(['train','test'], loc='upper left')\n",
    "plt.show()"
   ]
  },
  {
   "cell_type": "code",
   "execution_count": 84,
   "id": "afceb359",
   "metadata": {},
   "outputs": [
    {
     "name": "stdout",
     "output_type": "stream",
     "text": [
      "63/63 [==============================] - 0s 923us/step\n"
     ]
    }
   ],
   "source": [
    "# Predictions and evaluating the model\n",
    "#using the model made from early stopping\n",
    "\n",
    "# predicting the Test set results\n",
    "y_pred = classifier.predict(X_test)\n",
    "# binary classification -> if y >= 0.5 it is 1 else it is 0\n",
    "y_pred = (y_pred >= 0.5)"
   ]
  },
  {
   "cell_type": "code",
   "execution_count": 85,
   "id": "7f68306f",
   "metadata": {},
   "outputs": [
    {
     "data": {
      "text/plain": [
       "array([[1537,   58],\n",
       "       [ 221,  184]])"
      ]
     },
     "execution_count": 85,
     "metadata": {},
     "output_type": "execute_result"
    }
   ],
   "source": [
    "# make the confusion matrix\n",
    "\n",
    "cm = confusion_matrix(y_test,y_pred)\n",
    "cm"
   ]
  },
  {
   "cell_type": "code",
   "execution_count": 86,
   "id": "fb6c2f4b",
   "metadata": {},
   "outputs": [
    {
     "data": {
      "text/plain": [
       "0.8605"
      ]
     },
     "execution_count": 86,
     "metadata": {},
     "output_type": "execute_result"
    }
   ],
   "source": [
    "# calculate the accuracy\n",
    "\n",
    "score = accuracy_score(y_pred,y_test)\n",
    "score"
   ]
  },
  {
   "cell_type": "code",
   "execution_count": 87,
   "id": "160829bb",
   "metadata": {},
   "outputs": [
    {
     "data": {
      "text/plain": [
       "[array([[-0.34384015,  0.15577962,  0.99125904, -0.41308606, -0.14778398,\n",
       "          1.7889701 , -0.01278613,  1.1087617 ,  0.11182501,  0.05351205,\n",
       "         -0.13055749],\n",
       "        [-0.7880936 , -2.8631656 , -1.3543805 ,  1.6826105 , -2.6315396 ,\n",
       "         -0.9873136 , -2.2159436 , -1.9270096 , -0.7394482 , -1.44136   ,\n",
       "         -0.46846315],\n",
       "        [ 0.87425476, -0.18660897,  1.2856158 ,  0.5807849 , -0.30090463,\n",
       "         -0.9864389 , -0.20432091,  0.17480157, -0.02643703,  1.5499898 ,\n",
       "          0.04978153],\n",
       "        [-0.609325  ,  0.18658596, -0.92028046, -0.97033095,  0.01309048,\n",
       "         -1.0026659 , -3.5586202 , -0.8043475 , -3.1824753 ,  0.2102988 ,\n",
       "          0.594099  ],\n",
       "        [ 0.41488865, -0.27622306,  0.5575047 ,  0.45923033,  1.1989775 ,\n",
       "          0.62761533,  0.8057194 , -0.02107198, -2.9994364 , -0.5934711 ,\n",
       "          3.632298  ],\n",
       "        [ 0.6141288 ,  0.5295827 , -0.39192116,  0.12341164, -0.37980342,\n",
       "          1.1531028 , -0.24625964, -0.20425689,  0.18880443,  0.8019117 ,\n",
       "         -0.11396663],\n",
       "        [ 2.411797  ,  1.447822  ,  1.0886315 ,  2.0582824 ,  0.1403409 ,\n",
       "          1.7775761 ,  0.9642869 , -0.15114845, -0.32634935,  0.5226137 ,\n",
       "          0.02056947],\n",
       "        [ 1.0746409 ,  0.08663903,  0.93663865, -0.1097751 , -0.3672401 ,\n",
       "          0.49226204, -0.28814584, -0.44208312, -0.01421121, -0.4316023 ,\n",
       "          0.47880313],\n",
       "        [ 1.1189475 , -0.11449184, -0.57124674, -0.30014145, -0.14131014,\n",
       "         -0.37444365,  0.95176   , -0.7574488 ,  1.7986883 , -0.90227586,\n",
       "         -0.17662385],\n",
       "        [ 0.21641809,  0.42186984,  0.5167097 , -0.6453593 , -1.8299979 ,\n",
       "          0.6662251 ,  0.36586338, -1.0003468 ,  0.1075059 ,  0.52939993,\n",
       "          0.24881752],\n",
       "        [ 1.2657868 ,  0.84960335,  0.2723125 ,  1.1188105 , -0.8669051 ,\n",
       "         -0.06025756,  0.14646628,  2.5361674 , -0.17313552,  0.2623539 ,\n",
       "          0.21564364]], dtype=float32),\n",
       " array([-2.2820287,  2.4196918, -4.2649736, -3.2734292,  2.0274448,\n",
       "        -2.6542182,  0.266325 , -0.5550857, -1.8038682, -0.3088545,\n",
       "        -4.3981752], dtype=float32),\n",
       " array([[ 1.0077482 , -0.4180333 ,  0.8664178 ,  1.1188734 ,  0.48146233,\n",
       "          0.54074323, -1.2320065 ],\n",
       "        [-0.9766311 ,  0.43084103,  0.3972523 , -0.6888631 ,  0.24921507,\n",
       "          0.73605204,  0.8567137 ],\n",
       "        [ 1.2754539 ,  2.5770738 ,  2.2966533 ,  2.195384  ,  0.65208614,\n",
       "          1.2241536 ,  0.85895663],\n",
       "        [-0.62868476, -0.63499725,  1.2761507 ,  0.47869313,  0.26753113,\n",
       "         -0.6172155 ,  0.96261364],\n",
       "        [-0.46804255,  0.61503357,  0.54266363, -0.3871805 ,  0.4557313 ,\n",
       "          0.14445919, -0.63913035],\n",
       "        [-0.4600537 ,  0.73592484,  0.46727636, -0.9988513 ,  0.9751138 ,\n",
       "          0.37165794,  1.0416806 ],\n",
       "        [-1.6434255 ,  0.3272094 ,  0.35488024,  1.4089185 ,  0.45375907,\n",
       "          0.60453266, -1.667231  ],\n",
       "        [ 0.693076  ,  0.80995375,  0.32031724,  0.51751345,  0.34105906,\n",
       "          0.5662939 ,  0.70296335],\n",
       "        [-1.8449878 , -0.41582647, -1.1009446 , -3.3320842 , -3.032294  ,\n",
       "         -0.17998065, -1.0024959 ],\n",
       "        [ 0.2138934 , -0.13210766, -0.28131455, -0.18512328,  0.4024542 ,\n",
       "          0.10105371, -0.07000652],\n",
       "        [ 1.6895177 , -2.5192604 , -3.329668  , -2.2780585 , -2.5574245 ,\n",
       "         -2.1570628 , -0.7920388 ]], dtype=float32),\n",
       " array([-1.5760664 , -0.30357116, -0.2482968 , -0.67752177, -0.14096534,\n",
       "        -0.01437737, -0.899105  ], dtype=float32),\n",
       " array([[-0.63398075, -0.32308534, -0.1715124 , -0.7189655 ,  0.68811274,\n",
       "         -0.47772023,  0.9335687 ],\n",
       "        [ 0.19942045,  0.24175143,  0.12091126, -0.3250476 , -0.8515179 ,\n",
       "          0.16351245, -0.5545637 ],\n",
       "        [ 0.1678156 ,  0.2645575 ,  0.21363433, -0.17365429, -2.6557803 ,\n",
       "          0.07055177, -1.6623842 ],\n",
       "        [ 0.44524777,  0.32143828,  0.37444392,  1.5829018 , -1.7798567 ,\n",
       "          0.5062766 , -1.5681798 ],\n",
       "        [ 0.42314658,  0.2967401 ,  0.33616424, -0.2750935 , -3.4217403 ,\n",
       "          0.25123465, -1.75087   ],\n",
       "        [ 0.13614799,  0.1641941 ,  0.15258637,  0.10213242, -1.8154936 ,\n",
       "          0.1176844 , -0.24107891],\n",
       "        [ 0.13641337,  0.3070804 ,  0.5465036 , -0.06070346, -2.5889137 ,\n",
       "          0.32564655, -0.5220399 ]], dtype=float32),\n",
       " array([-0.12114907, -0.03940774, -0.14311725, -1.5183122 ,  0.8629203 ,\n",
       "        -0.1580125 ,  1.3955184 ], dtype=float32),\n",
       " array([[-0.13146003],\n",
       "        [-0.14226502],\n",
       "        [-0.11318707],\n",
       "        [-0.15964921],\n",
       "        [ 0.8972404 ],\n",
       "        [-0.07754059],\n",
       "        [ 0.39165017]], dtype=float32),\n",
       " array([-0.81445485], dtype=float32)]"
      ]
     },
     "execution_count": 87,
     "metadata": {},
     "output_type": "execute_result"
    }
   ],
   "source": [
    "# get teh weights from each layer and neurons\n",
    "\n",
    "classifier.get_weights()"
   ]
  },
  {
   "cell_type": "code",
   "execution_count": null,
   "id": "5901b5a8",
   "metadata": {},
   "outputs": [],
   "source": []
  }
 ],
 "metadata": {
  "kernelspec": {
   "display_name": "Python 3 (ipykernel)",
   "language": "python",
   "name": "python3"
  },
  "language_info": {
   "codemirror_mode": {
    "name": "ipython",
    "version": 3
   },
   "file_extension": ".py",
   "mimetype": "text/x-python",
   "name": "python",
   "nbconvert_exporter": "python",
   "pygments_lexer": "ipython3",
   "version": "3.8.15"
  }
 },
 "nbformat": 4,
 "nbformat_minor": 5
}
